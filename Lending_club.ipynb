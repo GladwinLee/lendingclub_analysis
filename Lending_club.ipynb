{
 "cells": [
  {
   "cell_type": "code",
   "execution_count": 23,
   "metadata": {},
   "outputs": [],
   "source": [
    "import pandas as pd\n",
    "import numpy as np\n",
    "import matplotlib.pyplot as plt\n",
    "import seaborn as sns\n",
    "import plotly as px"
   ]
  },
  {
   "cell_type": "markdown",
   "metadata": {},
   "source": [
    "## importing data"
   ]
  },
  {
   "cell_type": "code",
   "execution_count": 2,
   "metadata": {},
   "outputs": [],
   "source": [
    "q1 = pd.read_csv('LoanStats_2016Q1.csv', header = 0, dtype={'desc': str,\n",
    "                                                            'verification_status_joint':str})"
   ]
  },
  {
   "cell_type": "code",
   "execution_count": 3,
   "metadata": {},
   "outputs": [],
   "source": [
    "q2 = pd.read_csv('LoanStats_2016Q2.csv', header = 0, dtype={'desc': str,\n",
    "                                                            'verification_status_joint':str})"
   ]
  },
  {
   "cell_type": "code",
   "execution_count": 4,
   "metadata": {},
   "outputs": [],
   "source": [
    "q3 = pd.read_csv('LoanStats_2016Q3.csv', header = 0, dtype={'desc': str,\n",
    "                                                            'verification_status_joint':str})"
   ]
  },
  {
   "cell_type": "code",
   "execution_count": 5,
   "metadata": {},
   "outputs": [],
   "source": [
    "q4 = pd.read_csv('LoanStats_2016Q4.csv', header = 0, dtype={'desc': str,\n",
    "                                                            'verification_status_joint':str})"
   ]
  },
  {
   "cell_type": "code",
   "execution_count": 101,
   "metadata": {},
   "outputs": [
    {
     "data": {
      "text/plain": [
       "345649354.4109999"
      ]
     },
     "execution_count": 101,
     "metadata": {},
     "output_type": "execute_result"
    }
   ],
   "source": [
    "condition =  all_data['loan_status'] == 'Charged Off'\n",
    "all_data.where(condition, inplace = True)\n",
    "all_data['loan_amount'] = all_data['loan_amnt'] - all_data['total_pymnt']\n",
    "all_data['loan_amount'].sum()"
   ]
  },
  {
   "cell_type": "code",
   "execution_count": 141,
   "metadata": {},
   "outputs": [],
   "source": [
    "all_data = pd.concat(objs = [q1,q2,q3,q4])\n"
   ]
  },
  {
   "cell_type": "code",
   "execution_count": 143,
   "metadata": {},
   "outputs": [
    {
     "data": {
      "text/plain": [
       "14734.039046332126"
      ]
     },
     "execution_count": 143,
     "metadata": {},
     "output_type": "execute_result"
    }
   ],
   "source": [
    "all_data['loan_amnt'].mean()"
   ]
  },
  {
   "cell_type": "markdown",
   "metadata": {},
   "source": [
    "## Task 1"
   ]
  },
  {
   "cell_type": "code",
   "execution_count": 56,
   "metadata": {},
   "outputs": [
    {
     "data": {
      "text/plain": [
       "[[9.74, 8.18, 6.25, 3.48], 7.1003, 434407]"
      ]
     },
     "execution_count": 56,
     "metadata": {},
     "output_type": "execute_result"
    }
   ],
   "source": [
    "quarters = [q1,q2,q3,q4]\n",
    "\n",
    "quarterly_percentages = []\n",
    "\n",
    "all_off = 0\n",
    "all_entries = 0\n",
    "\n",
    "for q in quarters:\n",
    "    values = q['loan_status'].value_counts()\n",
    "    \n",
    "    total = values.sum()\n",
    "    all_entries += total \n",
    "    \n",
    "    charged_off = values['Charged Off']\n",
    "    all_off += charged_off\n",
    "    \n",
    "    quarterly_percentages.append(round(charged_off/total * 100,2))\n",
    "    \n",
    "overall = round(all_off/all_entries * 100,4)\n",
    "\n",
    "[quarterly_percentages, overall, all_entries]\n",
    "\n",
    "\n",
    "    "
   ]
  },
  {
   "cell_type": "code",
   "execution_count": 59,
   "metadata": {},
   "outputs": [
    {
     "data": {
      "image/png": "[encoded data removed]",
      "text/plain": [
       "<Figure size 432x288 with 1 Axes>"
      ]
     },
     "metadata": {
      "needs_background": "light"
     },
     "output_type": "display_data"
    }
   ],
   "source": [
    "sns.color_palette(\"tab10\")\n",
    "\n",
    "fig = sns.barplot(x = ['Q1','Q2','Q3','Q4'] , y = quarterly_percentages)\n",
    "fig.set(xlabel= 'Quarter', ylabel='Percentage')\n",
    "plt.ylim(0, 20)\n",
    "for bar in fig.patches:\n",
    "    fig.annotate(bar.get_height(),\n",
    "                 (bar.get_x() + bar.get_width() / 2., bar.get_height()),\n",
    "                 ha = 'center')\n",
    "plt.show()"
   ]
  },
  {
   "cell_type": "code",
   "execution_count": 169,
   "metadata": {},
   "outputs": [],
   "source": [
    "def make_df(q_data):\n",
    "    \n",
    "    condition =  q_data['loan_status'] == 'Charged Off'\n",
    "    q_data.where(condition, inplace = True)\n",
    "    quarterly_count = q_data[['issue_d', 'loan_status']].groupby(['issue_d']).count()\n",
    "    \n",
    "    months = ['16-Jan','16-Feb','16-Mar', '16-Apr','16-May','16-Jun','16-Jul','16-Aug','16-Sep','16-Oct','16-Nov', '16-Dec']\n",
    "    quarterly_count.index = pd.CategoricalIndex(quarterly_count.index, categories = months, ordered = True)\n",
    "    quarterly_count = quarterly_count.sort_index()\n",
    "    \n",
    "    return quarterly_count"
   ]
  },
  {
   "cell_type": "code",
   "execution_count": 170,
   "metadata": {},
   "outputs": [
    {
     "data": {
      "text/html": [
       "<div>\n",
       "<style scoped>\n",
       "    .dataframe tbody tr th:only-of-type {\n",
       "        vertical-align: middle;\n",
       "    }\n",
       "\n",
       "    .dataframe tbody tr th {\n",
       "        vertical-align: top;\n",
       "    }\n",
       "\n",
       "    .dataframe thead th {\n",
       "        text-align: right;\n",
       "    }\n",
       "</style>\n",
       "<table border=\"1\" class=\"dataframe\">\n",
       "  <thead>\n",
       "    <tr style=\"text-align: right;\">\n",
       "      <th></th>\n",
       "      <th>loan_status</th>\n",
       "    </tr>\n",
       "    <tr>\n",
       "      <th>issue_d</th>\n",
       "      <th></th>\n",
       "    </tr>\n",
       "  </thead>\n",
       "  <tbody>\n",
       "    <tr>\n",
       "      <th>16-Jan</th>\n",
       "      <td>3321</td>\n",
       "    </tr>\n",
       "    <tr>\n",
       "      <th>16-Feb</th>\n",
       "      <td>3840</td>\n",
       "    </tr>\n",
       "    <tr>\n",
       "      <th>16-Mar</th>\n",
       "      <td>5882</td>\n",
       "    </tr>\n",
       "    <tr>\n",
       "      <th>16-Apr</th>\n",
       "      <td>3252</td>\n",
       "    </tr>\n",
       "    <tr>\n",
       "      <th>16-May</th>\n",
       "      <td>2385</td>\n",
       "    </tr>\n",
       "    <tr>\n",
       "      <th>16-Jun</th>\n",
       "      <td>2369</td>\n",
       "    </tr>\n",
       "    <tr>\n",
       "      <th>16-Jul</th>\n",
       "      <td>2440</td>\n",
       "    </tr>\n",
       "    <tr>\n",
       "      <th>16-Aug</th>\n",
       "      <td>2243</td>\n",
       "    </tr>\n",
       "    <tr>\n",
       "      <th>16-Sep</th>\n",
       "      <td>1508</td>\n",
       "    </tr>\n",
       "    <tr>\n",
       "      <th>16-Oct</th>\n",
       "      <td>1309</td>\n",
       "    </tr>\n",
       "    <tr>\n",
       "      <th>16-Nov</th>\n",
       "      <td>1193</td>\n",
       "    </tr>\n",
       "    <tr>\n",
       "      <th>16-Dec</th>\n",
       "      <td>1102</td>\n",
       "    </tr>\n",
       "  </tbody>\n",
       "</table>\n",
       "</div>"
      ],
      "text/plain": [
       "         loan_status\n",
       "issue_d             \n",
       "16-Jan          3321\n",
       "16-Feb          3840\n",
       "16-Mar          5882\n",
       "16-Apr          3252\n",
       "16-May          2385\n",
       "16-Jun          2369\n",
       "16-Jul          2440\n",
       "16-Aug          2243\n",
       "16-Sep          1508\n",
       "16-Oct          1309\n",
       "16-Nov          1193\n",
       "16-Dec          1102"
      ]
     },
     "execution_count": 170,
     "metadata": {},
     "output_type": "execute_result"
    }
   ],
   "source": [
    "data = make_df(all_data)\n",
    "data"
   ]
  },
  {
   "cell_type": "code",
   "execution_count": 76,
   "metadata": {
    "scrolled": true
   },
   "outputs": [
    {
     "data": {
      "image/png": "[encoded data removed]",
      "text/plain": [
       "<Figure size 720x360 with 1 Axes>"
      ]
     },
     "metadata": {
      "needs_background": "light"
     },
     "output_type": "display_data"
    }
   ],
   "source": [
    "plt.figure(figsize=(10,5))\n",
    "fig = sns.barplot(x = data.index, y = data['loan_status'])\n",
    "fig.set(xlabel= 'Month', ylabel='Count of Charged Off accounts')\n",
    "for bar in fig.patches:\n",
    "    fig.annotate(bar.get_height(),\n",
    "                 (bar.get_x() + bar.get_width() / 2., bar.get_height()),\n",
    "                 ha = 'center')\n",
    "plt.show()"
   ]
  },
  {
   "cell_type": "markdown",
   "metadata": {},
   "source": [
    "## Task 2"
   ]
  },
  {
   "cell_type": "code",
   "execution_count": 103,
   "metadata": {},
   "outputs": [
    {
     "data": {
      "text/plain": [
       "73520.56774996758"
      ]
     },
     "execution_count": 103,
     "metadata": {},
     "output_type": "execute_result"
    }
   ],
   "source": [
    "all_data['annual_inc'].mean()"
   ]
  },
  {
   "cell_type": "code",
   "execution_count": 104,
   "metadata": {},
   "outputs": [
    {
     "data": {
      "text/plain": [
       "100433.35606122449"
      ]
     },
     "execution_count": 104,
     "metadata": {},
     "output_type": "execute_result"
    }
   ],
   "source": [
    "all_data['annual_inc_joint'].mean()"
   ]
  },
  {
   "cell_type": "code",
   "execution_count": 119,
   "metadata": {},
   "outputs": [
    {
     "data": {
      "text/plain": [
       "(0.9797678214209256,\n",
       " Individual    425618\n",
       " Joint App       8789\n",
       " Name: application_type, dtype: int64)"
      ]
     },
     "execution_count": 119,
     "metadata": {},
     "output_type": "execute_result"
    }
   ],
   "source": [
    "values = all_data['application_type'].value_counts()\n",
    "total = values.sum()\n",
    "joint = values['Joint App']\n",
    "individual = total - joint\n",
    "percentage = individual/total\n",
    "\n",
    "percentage, values\n"
   ]
  },
  {
   "cell_type": "code",
   "execution_count": 122,
   "metadata": {},
   "outputs": [
    {
     "data": {
      "text/plain": [
       "(0.9797678214209256,\n",
       " MORTGAGE    211516\n",
       " RENT        169744\n",
       " OWN          53037\n",
       " ANY            110\n",
       " Name: home_ownership, dtype: int64,\n",
       " 434407)"
      ]
     },
     "execution_count": 122,
     "metadata": {},
     "output_type": "execute_result"
    }
   ],
   "source": [
    "values = all_data['home_ownership'].value_counts()\n",
    "total = values.sum()\n",
    "individual = total - joint\n",
    "percentage = individual/total\n",
    "\n",
    "percentage, values, total\n"
   ]
  },
  {
   "cell_type": "code",
   "execution_count": 124,
   "metadata": {},
   "outputs": [
    {
     "data": {
      "text/plain": [
       "(0.9783625025542045,\n",
       " 10+ years    149972\n",
       " 2 years       39601\n",
       " 3 years       34734\n",
       " < 1 year      31918\n",
       " 1 year        29156\n",
       " 5 years       26475\n",
       " 4 years       25820\n",
       " 8 years       18774\n",
       " 6 years       18656\n",
       " 9 years       16884\n",
       " 7 years       14203\n",
       " Name: emp_length, dtype: int64,\n",
       " 406193)"
      ]
     },
     "execution_count": 124,
     "metadata": {},
     "output_type": "execute_result"
    }
   ],
   "source": [
    "values = all_data['emp_length'].value_counts()\n",
    "total = values.sum()\n",
    "individual = total - joint\n",
    "percentage = individual/total\n",
    "\n",
    "percentage, values, total\n"
   ]
  },
  {
   "cell_type": "code",
   "execution_count": 182,
   "metadata": {},
   "outputs": [
    {
     "data": {
      "text/plain": [
       "0.3692136496689997"
      ]
     },
     "execution_count": 182,
     "metadata": {},
     "output_type": "execute_result"
    }
   ],
   "source": [
    "149972/406193"
   ]
  },
  {
   "cell_type": "code",
   "execution_count": 131,
   "metadata": {},
   "outputs": [
    {
     "data": {
      "text/plain": [
       "(0.005487941032257767,\n",
       " 0     341966\n",
       " 1      60197\n",
       " 2      18168\n",
       " 3       6986\n",
       " 4       3153\n",
       " 5       1553\n",
       " 6        917\n",
       " 7        519\n",
       " 8        320\n",
       " 9        201\n",
       " 10       135\n",
       " 11        82\n",
       " 12        60\n",
       " 13        43\n",
       " 14        34\n",
       " 15        25\n",
       " 16        13\n",
       " 17         9\n",
       " 18         8\n",
       " 19         7\n",
       " 20         6\n",
       " 21         3\n",
       " 22         1\n",
       " 29         1\n",
       " Name: delinq_2yrs, dtype: int64,\n",
       " 434407)"
      ]
     },
     "execution_count": 131,
     "metadata": {},
     "output_type": "execute_result"
    }
   ],
   "source": [
    "values = all_data['delinq_2yrs'].value_counts()\n",
    "total = values.sum()\n",
    "individual = total - (values[0] + values[1] + values[2] + values[3] + values[4] + values[5]) \n",
    "percentage = individual/total\n",
    "\n",
    "percentage, values, total\n"
   ]
  },
  {
   "cell_type": "code",
   "execution_count": 132,
   "metadata": {},
   "outputs": [
    {
     "data": {
      "text/plain": [
       "432023"
      ]
     },
     "execution_count": 132,
     "metadata": {},
     "output_type": "execute_result"
    }
   ],
   "source": [
    "values[0] + values[1] + values[2] + values[3] + values[4] + values[5]"
   ]
  },
  {
   "cell_type": "markdown",
   "metadata": {},
   "source": [
    "## Task 3"
   ]
  },
  {
   "cell_type": "code",
   "execution_count": 146,
   "metadata": {},
   "outputs": [],
   "source": [
    "all_data = pd.concat(objs = [q1,q2,q3,q4])"
   ]
  },
  {
   "cell_type": "code",
   "execution_count": 149,
   "metadata": {},
   "outputs": [
    {
     "data": {
      "text/plain": [
       "debt_consolidation    248899\n",
       "credit_card            91609\n",
       "home_improvement       31182\n",
       "other                  28469\n",
       "major_purchase         10406\n",
       "medical                 5440\n",
       "car                     4813\n",
       "small_business          4790\n",
       "vacation                3262\n",
       "moving                  3229\n",
       "house                   2002\n",
       "renewable_energy         304\n",
       "wedding                    2\n",
       "Name: purpose, dtype: int64"
      ]
     },
     "execution_count": 149,
     "metadata": {},
     "output_type": "execute_result"
    }
   ],
   "source": [
    "purpose_counts = all_data['purpose'].value_counts()\n",
    "purpose_counts"
   ]
  },
  {
   "cell_type": "code",
   "execution_count": 153,
   "metadata": {},
   "outputs": [
    {
     "data": {
      "image/png": "[encoded data removed]",
      "text/plain": [
       "<Figure size 720x360 with 1 Axes>"
      ]
     },
     "metadata": {
      "needs_background": "light"
     },
     "output_type": "display_data"
    }
   ],
   "source": [
    "plt.figure(figsize=(10,5))\n",
    "fig = sns.barplot(x = purpose_counts.index, y = purpose_counts)\n",
    "fig.set_xticklabels(fig.get_xticklabels(), rotation=40, ha=\"right\")\n",
    "plt.show()"
   ]
  },
  {
   "cell_type": "code",
   "execution_count": 174,
   "metadata": {},
   "outputs": [],
   "source": [
    "condition = all_data['purpose'] == 'debt_consolidation'\n",
    "all_data.where(condition, inplace = True)\n",
    "debt_home = all_data[['home_ownership', 'loan_amnt']].groupby(['home_ownership']).count()\n",
    "de"
   ]
  },
  {
   "cell_type": "code",
   "execution_count": 178,
   "metadata": {},
   "outputs": [
    {
     "data": {
      "image/png": "[encoded data removed]",
      "text/plain": [
       "<Figure size 432x288 with 1 Axes>"
      ]
     },
     "metadata": {
      "needs_background": "light"
     },
     "output_type": "display_data"
    }
   ],
   "source": [
    "# plt.figure(figsize=(10,5))\n",
    "fig = sns.barplot(x = debt_home.index, y = debt_home['loan_amnt'])\n",
    "# fig.set_xticklabels(fig.get_xticklabels(), rotation=40, ha=\"right\")\n",
    "for bar in fig.patches:\n",
    "    fig.annotate(bar.get_height(),\n",
    "                 (bar.get_x() + bar.get_width() / 2., bar.get_height()),\n",
    "                 ha = 'center')\n",
    "plt.show()"
   ]
  },
  {
   "cell_type": "code",
   "execution_count": 179,
   "metadata": {},
   "outputs": [
    {
     "data": {
      "text/plain": [
       "27013"
      ]
     },
     "execution_count": 179,
     "metadata": {},
     "output_type": "execute_result"
    }
   ],
   "source": [
    "12630+14383"
   ]
  },
  {
   "cell_type": "code",
   "execution_count": 180,
   "metadata": {},
   "outputs": [
    {
     "data": {
      "text/plain": [
       "30842"
      ]
     },
     "execution_count": 180,
     "metadata": {},
     "output_type": "execute_result"
    }
   ],
   "source": [
    "12630+14383+3829"
   ]
  },
  {
   "cell_type": "code",
   "execution_count": 181,
   "metadata": {},
   "outputs": [
    {
     "data": {
      "text/plain": [
       "0.8758511121198366"
      ]
     },
     "execution_count": 181,
     "metadata": {},
     "output_type": "execute_result"
    }
   ],
   "source": [
    "27013/30842"
   ]
  },
  {
   "cell_type": "code",
   "execution_count": null,
   "metadata": {},
   "outputs": [],
   "source": []
  }
 ],
 "metadata": {
  "kernelspec": {
   "display_name": "Python 3",
   "language": "python",
   "name": "python3"
  },
  "language_info": {
   "codemirror_mode": {
    "name": "ipython",
    "version": 3
   },
   "file_extension": ".py",
   "mimetype": "text/x-python",
   "name": "python",
   "nbconvert_exporter": "python",
   "pygments_lexer": "ipython3",
   "version": "3.6.9"
  }
 },
 "nbformat": 4,
 "nbformat_minor": 4
}
